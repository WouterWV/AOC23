{
 "cells": [
  {
   "cell_type": "code",
   "execution_count": 82,
   "metadata": {},
   "outputs": [
    {
     "name": "stdout",
     "output_type": "stream",
     "text": [
      "[50, 51, 55, 57, 64, 71, 73, 77, 80] [59, 60, 65, 68, 81, 83, 89, 91, 104, 115]\n",
      "9563821\n",
      "827009909817\n"
     ]
    }
   ],
   "source": [
    "with open('input.txt', 'r') as f:\n",
    "    M = []\n",
    "    for line in f:\n",
    "        M.append([0 if el == \".\" else 1 for el in line.strip()])\n",
    "Mlist = M.copy()\n",
    "M = np.array(M)\n",
    "\n",
    "rowins, colins = [], []\n",
    "for i in range(len(M)):\n",
    "    if sum(M[i,:]) == 0:\n",
    "        rowins.append(i)\n",
    "    if sum(M[:,i]) == 0:\n",
    "        colins.append(i)\n",
    "print(rowins, colins)\n",
    "\n",
    "# for i in rowins[::-1]:\n",
    "#     Mlist.insert(i, [0 for el in range(len(Mlist[0]))])\n",
    "# Mlist = np.array(Mlist).T.tolist()\n",
    "# for i in colins[::-1]:\n",
    "#     Mlist.insert(i, [0 for el in range(len(Mlist[0]))])\n",
    "# Mlist = np.array(Mlist).T.tolist()\n",
    "# M = np.array(Mlist)\n",
    "\n",
    "galaxies = []\n",
    "for i in range(len(M)):\n",
    "    for j in range(len(M[0])):\n",
    "        if M[i,j] == 1:\n",
    "            galaxies.append((i,j))\n",
    "\n",
    "def distance(i, j, k, l):\n",
    "    return abs(k-i) + abs(j-l)\n",
    "\n",
    "def distance2(i, j, k, l, rowins, colins, Nexp):\n",
    "    dist = distance(i, j, k, l)\n",
    "    for r in rowins:\n",
    "        if i<=r<=k or k<=r<=i:\n",
    "            dist+=Nexp\n",
    "    for c in colins:\n",
    "        if j<=c<=l or l<=c<=j:\n",
    "            dist+=Nexp\n",
    "    return dist\n",
    "\n",
    "total = 0\n",
    "total2 = 0\n",
    "for i in range(len(galaxies)):\n",
    "    for j in range(i+1, len(galaxies)):\n",
    "        total += distance2(galaxies[i][0], galaxies[i][1],\n",
    "                          galaxies[j][0], galaxies[j][1],\n",
    "                          rowins, colins, 1)\n",
    "        total2 += distance2(galaxies[i][0], galaxies[i][1],\n",
    "                            galaxies[j][0], galaxies[j][1],\n",
    "                            rowins, colins, 999999)\n",
    "print(total)\n",
    "print(total2)"
   ]
  },
  {
   "cell_type": "code",
   "execution_count": null,
   "metadata": {},
   "outputs": [],
   "source": []
  },
  {
   "cell_type": "code",
   "execution_count": null,
   "metadata": {},
   "outputs": [],
   "source": []
  }
 ],
 "metadata": {
  "kernelspec": {
   "display_name": "pptis_wv",
   "language": "python",
   "name": "python3"
  },
  "language_info": {
   "codemirror_mode": {
    "name": "ipython",
    "version": 3
   },
   "file_extension": ".py",
   "mimetype": "text/x-python",
   "name": "python",
   "nbconvert_exporter": "python",
   "pygments_lexer": "ipython3",
   "version": "3.10.9"
  }
 },
 "nbformat": 4,
 "nbformat_minor": 2
}
