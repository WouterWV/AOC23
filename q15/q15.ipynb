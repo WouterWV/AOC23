{
 "cells": [
  {
   "cell_type": "code",
   "execution_count": 54,
   "metadata": {},
   "outputs": [
    {
     "name": "stdout",
     "output_type": "stream",
     "text": [
      "q1: 508552\n",
      "q2: 265462\n"
     ]
    }
   ],
   "source": [
    "import numpy as np\n",
    "# import ascii stuff\n",
    "with open(\"input.txt\", \"r\") as f:\n",
    "    for line in f:\n",
    "        words = line.strip().split(',')\n",
    "\n",
    "def hashmap(word):\n",
    "    cv = 0\n",
    "    for letter in word:\n",
    "        # get ascii value of letter\n",
    "        cv += ord(letter)\n",
    "        cv *= 17\n",
    "        cv %= 256\n",
    "    return cv\n",
    "\n",
    "cvs = []\n",
    "for word in words:\n",
    "    cvs.append(hashmap(word))\n",
    "print(\"q1:\", sum(cvs))\n",
    "\n",
    "boxes = [[] for i in range(256)]\n",
    "instructions = []\n",
    "for word in words:\n",
    "    if \"-\" in word:\n",
    "        box = int(hashmap(word.split('-')[0]))\n",
    "        label = word.split('-')[0]\n",
    "        if label in [b[0] for b in boxes[box]]:\n",
    "            # remove label from box\n",
    "            boxes[box].remove([b for b in boxes[box] if b[0] == label][0])\n",
    "    if \"=\" in word:\n",
    "        box = int(hashmap(word.split('=')[0]))\n",
    "        label, pos = word.split('=')[0], int(word.split('=')[1])\n",
    "        if label not in [b[0] for b in boxes[box]]:\n",
    "            # add label to box\n",
    "            boxes[box].append([label, pos])\n",
    "        else:\n",
    "            # update label in box\n",
    "            boxes[box][[b[0] for b in boxes[box]].index(label)][1] = pos\n",
    "\n",
    "focal_power = 0\n",
    "for i, box in enumerate(boxes):\n",
    "    for j, lens in enumerate(box):\n",
    "        local_power = (i+1)*(j+1)*lens[1]\n",
    "        focal_power += local_power\n",
    "print(\"q2:\", focal_power)\n"
   ]
  },
  {
   "cell_type": "code",
   "execution_count": null,
   "metadata": {},
   "outputs": [],
   "source": []
  }
 ],
 "metadata": {
  "kernelspec": {
   "display_name": "pptis_wv",
   "language": "python",
   "name": "python3"
  },
  "language_info": {
   "codemirror_mode": {
    "name": "ipython",
    "version": 3
   },
   "file_extension": ".py",
   "mimetype": "text/x-python",
   "name": "python",
   "nbconvert_exporter": "python",
   "pygments_lexer": "ipython3",
   "version": "3.10.9"
  }
 },
 "nbformat": 4,
 "nbformat_minor": 2
}
