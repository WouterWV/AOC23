{
 "cells": [
  {
   "cell_type": "code",
   "execution_count": 50,
   "metadata": {},
   "outputs": [
    {
     "name": "stdout",
     "output_type": "stream",
     "text": [
      "q1: 23673\n",
      "q2: 12263631\n"
     ]
    }
   ],
   "source": [
    "draws, wnrs = [], []\n",
    "with open(\"input.txt\", \"r\") as f:\n",
    "    for line in f:\n",
    "        line = (line.strip().split(\":\")[1])\n",
    "        dat = line.split(\"|\")\n",
    "        draw = [(el) for el in dat[0][1:-1].split(\" \")]\n",
    "        draws.append([int(el) for el in draw if el != \"\"])\n",
    "        wnr = [(el) for el in dat[1][1:].split(\" \")]\n",
    "        wnrs.append([int(el) for el in wnr if el != \"\"])\n",
    "\n",
    "tot = 0\n",
    "for (wnr, draw) in zip(draws, wnrs):\n",
    "    drawpt = 0\n",
    "    for d in draw:\n",
    "        if d in wnr:\n",
    "            drawpt+=1\n",
    "    if drawpt>0:\n",
    "        tot += 2**(drawpt-1)\n",
    "print(\"q1:\", int(tot))\n",
    "numbers = [i for i in range(len(draws))]\n",
    "winningnumbers = [0 for i in range(len(draws))]\n",
    "for (i, wnr, draw) in zip([k for k in range(len(draws))], draws, wnrs):\n",
    "    for d in draw:\n",
    "        if d in wnr:\n",
    "            winningnumbers[i] += 1\n",
    "numbers = [1 for i in range(len(draws))]\n",
    "for k, wins in enumerate(winningnumbers):\n",
    "    for i in range(wins):\n",
    "        numbers[k+i+1] += numbers[k]\n",
    "print(\"q2:\", sum(numbers))"
   ]
  }
 ],
 "metadata": {
  "kernelspec": {
   "display_name": "pptis_wv",
   "language": "python",
   "name": "python3"
  },
  "language_info": {
   "codemirror_mode": {
    "name": "ipython",
    "version": 3
   },
   "file_extension": ".py",
   "mimetype": "text/x-python",
   "name": "python",
   "nbconvert_exporter": "python",
   "pygments_lexer": "ipython3",
   "version": "3.10.9"
  }
 },
 "nbformat": 4,
 "nbformat_minor": 2
}
