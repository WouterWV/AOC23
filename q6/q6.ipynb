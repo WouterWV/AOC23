{
 "cells": [
  {
   "cell_type": "code",
   "execution_count": 1,
   "metadata": {},
   "outputs": [],
   "source": [
    "import numpy as np\n",
    "import os\n",
    "os.chdir(\"/home/wouter/AOC/q6\")\n",
    "\n",
    "with open(\"input.txt\", \"r\") as f:\n",
    "    for i,line in enumerate(f):\n",
    "        if i == 0:\n",
    "            times = [int(el) for el in line.split()[1:]]\n",
    "        else:\n",
    "            dists = [int(el) for el in line.split()[1:]]\n",
    "\n",
    "wins_races = []\n",
    "for t,d in zip(times,dists):\n",
    "    wins = 0\n",
    "    for pt in range(1,t):  # don't care bout 0 or t press\n",
    "        wins += 1 if pt*(t-pt) > d else 0\n",
    "    wins_races.append(wins)\n",
    "print(\"q1:\", np.prod(wins_races))\n",
    "\n",
    "# q2: quadratic function instead of looping...\n",
    "t = int(\"\".join([str(t) for t in times]))\n",
    "d = int(\"\".join([str(t) for t in dists]))\n",
    "\n",
    "D = t**2 - 4*(-1)*(-d)\n",
    "x1 = (-t + np.sqrt(D))/(-2)\n",
    "x2 = (-t - np.sqrt(D))/(-2)\n",
    "\n",
    "print(\"q2:\", int(np.floor(x2) - np.ceil(x1) + 1))"
   ]
  }
 ],
 "metadata": {
  "kernelspec": {
   "display_name": "pptis_wv",
   "language": "python",
   "name": "python3"
  },
  "language_info": {
   "codemirror_mode": {
    "name": "ipython",
    "version": 3
   },
   "file_extension": ".py",
   "mimetype": "text/x-python",
   "name": "python",
   "nbconvert_exporter": "python",
   "pygments_lexer": "ipython3",
   "version": "3.10.9"
  }
 },
 "nbformat": 4,
 "nbformat_minor": 2
}
