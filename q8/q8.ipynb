{
 "cells": [
  {
   "cell_type": "code",
   "execution_count": 1,
   "metadata": {},
   "outputs": [
    {
     "name": "stdout",
     "output_type": "stream",
     "text": [
      "q1: 23147\n",
      "init poses: ['NPA', 'HMA', 'GQA', 'CXA', 'AAA', 'VHA']\n",
      "q2: 22289513667691\n"
     ]
    }
   ],
   "source": [
    "import numpy as np\n",
    "import os\n",
    "os.chdir(\"/home/wouter/AOC/q8\")\n",
    "\n",
    "dict = {}\n",
    "with open(\"input.txt\", \"r\") as f:\n",
    "    for i,line in enumerate(f):\n",
    "        if i == 0:\n",
    "            LRs = line.strip()\n",
    "        if i > 1:\n",
    "            data = line.split()\n",
    "            dict[data[0]] = {}\n",
    "            dict[data[0]][\"L\"] = data[2][1:-1]\n",
    "            dict[data[0]][\"R\"] = data[3][:-1]\n",
    "\n",
    "def lcm(l):\n",
    "    \"\"\"least common multiple of a list of integeres\"\"\"\n",
    "    lcm = l[0]\n",
    "    for i in l[1:]:\n",
    "        lcm = lcm*i//np.gcd(lcm, i)\n",
    "    return lcm\n",
    "    \n",
    "\n",
    "pos = 'AAA'\n",
    "id = 0 \n",
    "while pos != 'ZZZ':\n",
    "    idrun = id % len(LRs)\n",
    "    pos = dict[pos][LRs[idrun]]\n",
    "    id += 1\n",
    "print('q1:', id)\n",
    "\n",
    "poses = [el for el in dict.keys() if el[-1] == 'A']\n",
    "initposes = poses.copy()\n",
    "looped = np.array([False for el in poses])\n",
    "loopcount = np.array([0 for el in poses])\n",
    "print(\"init poses:\", poses)\n",
    "id = 0\n",
    "while not looped.all():\n",
    "    idrun = id % len(LRs)\n",
    "    poses = [dict[el][LRs[idrun]] for el in poses]\n",
    "    for i, el, initel in zip(range(len(poses)), poses, initposes):\n",
    "        if el[-1] == 'Z':\n",
    "            looped[i] = True\n",
    "            loopcount[i] = id + 1\n",
    "    id += 1\n",
    "\n",
    "print(\"q2:\",lcm(loopcount))\n",
    "\n"
   ]
  }
 ],
 "metadata": {
  "kernelspec": {
   "display_name": "pptis_wv",
   "language": "python",
   "name": "python3"
  },
  "language_info": {
   "codemirror_mode": {
    "name": "ipython",
    "version": 3
   },
   "file_extension": ".py",
   "mimetype": "text/x-python",
   "name": "python",
   "nbconvert_exporter": "python",
   "pygments_lexer": "ipython3",
   "version": "3.10.9"
  }
 },
 "nbformat": 4,
 "nbformat_minor": 2
}
