{
 "cells": [
  {
   "cell_type": "code",
   "execution_count": 1,
   "metadata": {},
   "outputs": [
    {
     "name": "stdout",
     "output_type": "stream",
     "text": [
      "q1: 2105961943\n",
      "q2: 1019\n"
     ]
    }
   ],
   "source": [
    "import numpy as np\n",
    "import os\n",
    "os.chdir(\"/home/wouter/AOC/q9\")\n",
    "\n",
    "seqs = []\n",
    "with open(\"input.txt\", \"r\") as f:\n",
    "    for line in f:\n",
    "        # split first, then cast each el to int\n",
    "        seqs.append(list(map(int, line.split())))\n",
    "\n",
    "def pred(seq):\n",
    "    nseq = seq.copy()\n",
    "    diffs = []\n",
    "    while len(nseq) > 1:\n",
    "        diffs.append(np.diff(nseq))\n",
    "        nseq = np.diff(nseq)\n",
    "\n",
    "    predict = sum([el[-1] for el in diffs[0:]]) + seq[-1]\n",
    "    hists = [0]\n",
    "    for first in [el[0] for el in diffs[::-1]]:\n",
    "        hists.append(first - hists[-1])\n",
    "    history = seq[0] - hists[-1]\n",
    "    return predict, history\n",
    "sols = (np.sum(np.array([pred(seq) for seq in seqs]), axis=0)).tolist()\n",
    "print(\"q1:\", (sols[0]))\n",
    "print(\"q2:\", (sols[1]))"
   ]
  },
  {
   "cell_type": "code",
   "execution_count": null,
   "metadata": {},
   "outputs": [],
   "source": []
  }
 ],
 "metadata": {
  "kernelspec": {
   "display_name": "pptis_wv",
   "language": "python",
   "name": "python3"
  },
  "language_info": {
   "codemirror_mode": {
    "name": "ipython",
    "version": 3
   },
   "file_extension": ".py",
   "mimetype": "text/x-python",
   "name": "python",
   "nbconvert_exporter": "python",
   "pygments_lexer": "ipython3",
   "version": "3.10.9"
  }
 },
 "nbformat": 4,
 "nbformat_minor": 2
}
